{
 "cells": [
  {
   "cell_type": "code",
   "execution_count": 17,
   "metadata": {},
   "outputs": [],
   "source": [
    "# Return if a given key is in list of pairs.\n",
    "# Pre: List constructed with sublists of size 2\n",
    "#\t   which first element is a key and second element is a value.\n",
    "# \t   And a key in type of string.\n",
    "# Post: No side effects.\n",
    "# Return: True if value exists for a key, false otherwise.\n",
    "# Complexity = O(n), linear comparison for each element in dictionary\n",
    "def isToken (mapOfTokens, value) :\n",
    "\tfor x in mapOfTokens :\n",
    "\t\ttemp = stringToList(x[1])\n",
    "\t\tif temp == value :\n",
    "\t\t\treturn True\n",
    "\treturn False\n",
    "\n",
    "# Converts a string literal to list of chars\n",
    "# Pre: None\n",
    "# Post: No side effects\n",
    "# Complexity = O(n), assignment operation for n values\n",
    "def stringToList(string) : \n",
    "\tchars = []\n",
    "\tfor c in string :\n",
    "\t\tchars.append(c.lower())\n",
    "\treturn chars\n",
    "\n",
    "# Wrapper function for pattern validation\n",
    "# Checks if the given string is constructed by the provided pattern\n",
    "# Complexity = O(n) + \n",
    "def isPatternValid(pattern, string) :\n",
    "\ttoken = []\n",
    "\tstringAsChars = stringToList(string)\n",
    "\tstringAsChars.reverse()\n",
    "\treturn validation(pattern, stringAsChars, token)\n",
    "\n",
    "# This function should be called via the wrapper, do not call this on its own\n",
    "# Pre: A dictionary of posible tokens \n",
    "# \t   A string construtcted as list of characters\n",
    "#\t   An empty list for temporary tokens \n",
    "# Post: Provided list of characters will be deleted\n",
    "# Complexity = O(n), recurance relation : T(n) = T(n-1) + c, T(1) = 0\n",
    "def validation(pattern, string, token) :\n",
    "\tif len(string) == 0 and len(token) > 0 and isToken(pattern,token):\n",
    "\t\treturn True\n",
    "\n",
    "\tif isToken(pattern, token) and len(string) >= 1 :\n",
    "\t\ttoken = []\n",
    "\t\treturn validation(pattern, string, token)\n",
    "\n",
    "\tif len(string) >= 1:\n",
    "\t\ttoken.append(string.pop())\n",
    "\t\treturn validation(pattern, string, token)\n",
    "\n",
    "\telse :\n",
    "\t\treturn False"
   ]
  },
  {
   "cell_type": "code",
   "execution_count": 18,
   "metadata": {},
   "outputs": [
    {
     "data": {
      "text/plain": [
       "True"
      ]
     },
     "execution_count": 18,
     "metadata": {},
     "output_type": "execute_result"
    }
   ],
   "source": [
    "#TEST 1 FOR Q5 >> Asserting True\n",
    "string = \"Tobeornottobe\"\n",
    "pattern = [\n",
    "\t\t\t[\"A\", \"to\"], \n",
    "\t\t   \t[\"B\", \"be\"],\n",
    "\t\t   \t[\"C\", \"or\"],\n",
    "\t\t   \t[\"D\", \"not\"]\n",
    "\t\t  ]\n",
    "\n",
    "isPatternValid(pattern, string)"
   ]
  },
  {
   "cell_type": "code",
   "execution_count": 19,
   "metadata": {},
   "outputs": [
    {
     "data": {
      "text/plain": [
       "True"
      ]
     },
     "execution_count": 19,
     "metadata": {},
     "output_type": "execute_result"
    }
   ],
   "source": [
    "#TEST 2 FOR Q5 >> Asserting True\n",
    "string = \"DoesLifeImitateArtOrDoesArtImitateLife\"\n",
    "pattern = [\n",
    "\t\t\t[\"A\", \"does\"],\n",
    "\t\t\t[\"B\", \"life\"],\n",
    "\t\t\t[\"C\", \"imitate\"],\n",
    "\t\t\t[\"D\", \"art\"],\n",
    "\t\t\t[\"E\", \"or\"]\t\n",
    "\t\t\t]\n",
    "isPatternValid(pattern, string)"
   ]
  },
  {
   "cell_type": "code",
   "execution_count": 20,
   "metadata": {},
   "outputs": [
    {
     "data": {
      "text/plain": [
       "False"
      ]
     },
     "execution_count": 20,
     "metadata": {},
     "output_type": "execute_result"
    }
   ],
   "source": [
    "#TEST 3 FOR Q5 >> Asserting False\n",
    "string = \"DoesLifeImitateArtOrDoesArtImitateLie\"\n",
    "pattern = [\n",
    "\t\t\t[\"A\", \"does\"],\n",
    "\t\t\t[\"B\", \"life\"],\n",
    "\t\t\t[\"C\", \"imitate\"],\n",
    "\t\t\t[\"D\", \"art\"],\n",
    "\t\t\t[\"E\", \"or\"]\t\n",
    "\t\t\t]\n",
    "isPatternValid(pattern, string)"
   ]
  }
 ],
 "metadata": {
  "kernelspec": {
   "display_name": "Python 3",
   "language": "python",
   "name": "python3"
  },
  "language_info": {
   "codemirror_mode": {
    "name": "ipython",
    "version": 3
   },
   "file_extension": ".py",
   "mimetype": "text/x-python",
   "name": "python",
   "nbconvert_exporter": "python",
   "pygments_lexer": "ipython3",
   "version": "3.6.1"
  }
 },
 "nbformat": 4,
 "nbformat_minor": 2
}
