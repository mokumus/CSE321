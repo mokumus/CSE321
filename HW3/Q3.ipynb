{
 "cells": [
  {
   "cell_type": "code",
   "execution_count": 17,
   "metadata": {},
   "outputs": [],
   "source": [
    "# Find the first occurance of index = arr[index] with binary search\n",
    "# Complexity O(logn), recurance relation T(n) = T(n/2) + c \n",
    "def binarySearch(arr, left, right):\n",
    "    if right >= left : \n",
    "        mid = (left + right)//2\n",
    "\n",
    "    if mid is arr[mid] : #Check if index == array[index]  \n",
    "        return mid \n",
    "      \n",
    "    if mid > arr[mid] : \n",
    "        return binarySearch(arr, (mid + 1), right)\n",
    "\n",
    "\n",
    "    if mid == 0 and arr[mid] == mid : # One element list and A[0] = 0\n",
    "        return 0;    \n",
    "\n",
    "    if mid == 0 and arr[mid] != mid : # One element list and A[0] != 0\n",
    "        return -1\n",
    "\n",
    "    if mid != 0 : \n",
    "        return binarySearch(arr, left, (mid - 1)) \n",
    "      \n",
    "    return -1"
   ]
  },
  {
   "cell_type": "code",
   "execution_count": 24,
   "metadata": {},
   "outputs": [
    {
     "data": {
      "text/plain": [
       "5"
      ]
     },
     "execution_count": 24,
     "metadata": {},
     "output_type": "execute_result"
    }
   ],
   "source": [
    "#TEST 1 FOR Q3 >> Asserting 5\n",
    "arr = [-123, -55, 1, 2, 3.4, 5, 22, 3200] \n",
    "n = len(arr) \n",
    "binarySearch(arr, 0, n-1)"
   ]
  },
  {
   "cell_type": "code",
   "execution_count": 25,
   "metadata": {},
   "outputs": [
    {
     "data": {
      "text/plain": [
       "0"
      ]
     },
     "execution_count": 25,
     "metadata": {},
     "output_type": "execute_result"
    }
   ],
   "source": [
    "#TEST 2 FOR Q3 >> Asserting 0\n",
    "arr = [0,10,100,1000,10000,100000] \n",
    "n = len(arr) \n",
    "binarySearch(arr, 0, n-1)"
   ]
  },
  {
   "cell_type": "code",
   "execution_count": 26,
   "metadata": {},
   "outputs": [
    {
     "data": {
      "text/plain": [
       "-1"
      ]
     },
     "execution_count": 26,
     "metadata": {},
     "output_type": "execute_result"
    }
   ],
   "source": [
    "#TEST 3 FOR Q3 >> Asserting -1 (no match)\n",
    "arr = [1,2,3,4] \n",
    "n = len(arr) \n",
    "binarySearch(arr, 0, n-1)"
   ]
  },
  {
   "cell_type": "code",
   "execution_count": 27,
   "metadata": {},
   "outputs": [
    {
     "data": {
      "text/plain": [
       "0"
      ]
     },
     "execution_count": 27,
     "metadata": {},
     "output_type": "execute_result"
    }
   ],
   "source": [
    "#TEST 4 FOR Q3 >> Asserting 0 (no match)\n",
    "arr = [0] \n",
    "n = len(arr) \n",
    "binarySearch(arr, 0, n-1)"
   ]
  },
  {
   "cell_type": "code",
   "execution_count": 28,
   "metadata": {},
   "outputs": [
    {
     "data": {
      "text/plain": [
       "-1"
      ]
     },
     "execution_count": 28,
     "metadata": {},
     "output_type": "execute_result"
    }
   ],
   "source": [
    "#TEST 5 FOR Q3 >> Asserting -1 (no match)\n",
    "arr = [3] \n",
    "n = len(arr) \n",
    "binarySearch(arr, 0, n-1)"
   ]
  }
 ],
 "metadata": {
  "kernelspec": {
   "display_name": "Python 3",
   "language": "python",
   "name": "python3"
  },
  "language_info": {
   "codemirror_mode": {
    "name": "ipython",
    "version": 3
   },
   "file_extension": ".py",
   "mimetype": "text/x-python",
   "name": "python",
   "nbconvert_exporter": "python",
   "pygments_lexer": "ipython3",
   "version": "3.6.1"
  }
 },
 "nbformat": 4,
 "nbformat_minor": 2
}
