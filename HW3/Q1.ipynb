{
 "cells": [
  {
   "cell_type": "code",
   "execution_count": 10,
   "metadata": {},
   "outputs": [],
   "source": [
    "'''\n",
    "-BFS is implemented using a queue structure\n",
    "-Repeat for each vertex and its edges.\n",
    "-Add vertex to Queue if element is not traversed before, record to the order list\n",
    "-Complexity: O(E+V), E = num of Edges, V = num of vertices\n",
    "\n",
    "-DFS is implemented using a stack structure\n",
    "-Repeat for each vertex and its edges.\n",
    "-Add vertex to Stack if element is not traversed before, record to the order list\n",
    "-Complexity: O(E+V), E = num of Edges, V = num of vertices\n",
    "'''\n",
    "\n",
    "\n",
    "\n",
    "def bfs(graph, start):\n",
    "    traversed = {}\n",
    "    q = []\n",
    "    order = [start] #First traversed index is the given start node\n",
    "    q.append((start, 0))\n",
    "    while q:\n",
    "        node, dist = q.pop(0)\n",
    "        traversed[node] = dist\n",
    "        if node in graph : #IF NODE HAS A PARENT\n",
    "            for parent in graph[node]:\n",
    "                queue_members = [x[0] for x in q]\n",
    "                if parent not in traversed and parent not in queue_members: # IF NOT ALREADY TRAVERSED\n",
    "                    q.append( (parent, dist+1) )\n",
    "                    order.append(parent)\n",
    "    return order\n",
    "\n",
    "\n",
    "def dfs(graph, start):\n",
    "    traversed = {}\n",
    "    s = []\n",
    "    order = []\n",
    "    s.append((start, 0))\n",
    "    while len(s) > 0 :\n",
    "        node, dist = s.pop()\n",
    "        order.append(node)\n",
    "        traversed[node] = dist\n",
    "        if node in graph :\n",
    "            for parent in graph[node] :\n",
    "                stack_members = [x[0] for x in s]\n",
    "                if parent not in traversed and parent not in stack_members :\n",
    "                    s.append((parent, dist+1))\n",
    "                    \n",
    "    return order\n",
    "\n"
   ]
  },
  {
   "cell_type": "code",
   "execution_count": 11,
   "metadata": {},
   "outputs": [
    {
     "name": "stdout",
     "output_type": "stream",
     "text": [
      "BFS: \n",
      "[1, 2, 3, 4, 5, 8, 6, 9, 10, 7]\n",
      "DFS: \n",
      "[1, 8, 10, 9, 5, 4, 3, 6, 7, 2]\n"
     ]
    }
   ],
   "source": [
    "#DRIVER CODE FOR Q1\n",
    "graph = { 1 : [2,3,4,5,8],\n",
    "          2 : [4],\n",
    "          3 : [5,6,9],\n",
    "          4 : [5],\n",
    "          6 : [7],\n",
    "          7 : [8,10],\n",
    "          8 : [9,10],\n",
    "          9 : [10]\n",
    "        }\n",
    "print(\"BFS: \")\n",
    "a = bfs(graph, 1)\n",
    "print(a)\n",
    "print(\"DFS: \")\n",
    "a = dfs(graph, 1)\n",
    "print(a)"
   ]
  }
 ],
 "metadata": {
  "kernelspec": {
   "display_name": "Python 3",
   "language": "python",
   "name": "python3"
  },
  "language_info": {
   "codemirror_mode": {
    "name": "ipython",
    "version": 3
   },
   "file_extension": ".py",
   "mimetype": "text/x-python",
   "name": "python",
   "nbconvert_exporter": "python",
   "pygments_lexer": "ipython3",
   "version": "3.6.1"
  }
 },
 "nbformat": 4,
 "nbformat_minor": 2
}
